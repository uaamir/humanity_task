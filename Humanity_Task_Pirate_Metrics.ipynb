{
  "nbformat": 4,
  "nbformat_minor": 0,
  "metadata": {
    "colab": {
      "name": "Humanity_Task_Pirate_Metrics.ipynb",
      "provenance": []
    },
    "kernelspec": {
      "name": "python3",
      "display_name": "Python 3"
    },
    "language_info": {
      "name": "python"
    }
  },
  "cells": [
    {
      "cell_type": "code",
      "execution_count": null,
      "metadata": {
        "id": "IsalpyJv7TaR"
      },
      "outputs": [],
      "source": [
        "import os\n",
        "import pandas as pd \n",
        "import json\n",
        "import sqlite3 as sq"
      ]
    },
    {
      "cell_type": "code",
      "source": [
        "\n",
        "\n",
        "\n",
        "def dict_factory(cursor, row):\n",
        "    d = {}\n",
        "    for idx, col in enumerate(cursor.description):\n",
        "        d[col[0]] = row[idx]\n",
        "    return d\n",
        "\n",
        "conn.row_factory = dict_factory\n",
        "\n",
        "# def query(sql):\n",
        "#   cursor = execute(sql)\n",
        "#   for row in cursor:\n",
        "#     print(row)   \n",
        "\n",
        "def query_and_print(sql):\n",
        "  cursor = execute(sql)\n",
        "  for row in cursor:\n",
        "    print(row)\n",
        "\n",
        " \n",
        "def query(sql):\n",
        "  cursor = execute(sql)\n",
        "  items = list(cursor)\n",
        "  return pd.DataFrame.from_dict(items)"
      ],
      "metadata": {
        "colab": {
          "base_uri": "https://localhost:8080/",
          "height": 235
        },
        "id": "oWHbs79M7fx7",
        "outputId": "0c89775e-4f3f-45b9-b297-8aaff5d7df21"
      },
      "execution_count": null,
      "outputs": [
        {
          "output_type": "error",
          "ename": "NameError",
          "evalue": "ignored",
          "traceback": [
            "\u001b[0;31m---------------------------------------------------------------------------\u001b[0m",
            "\u001b[0;31mNameError\u001b[0m                                 Traceback (most recent call last)",
            "\u001b[0;32m<ipython-input-2-342e6c8d5863>\u001b[0m in \u001b[0;36m<module>\u001b[0;34m()\u001b[0m\n\u001b[1;32m      5\u001b[0m     \u001b[0;32mreturn\u001b[0m \u001b[0md\u001b[0m\u001b[0;34m\u001b[0m\u001b[0;34m\u001b[0m\u001b[0m\n\u001b[1;32m      6\u001b[0m \u001b[0;34m\u001b[0m\u001b[0m\n\u001b[0;32m----> 7\u001b[0;31m \u001b[0mconn\u001b[0m\u001b[0;34m.\u001b[0m\u001b[0mrow_factory\u001b[0m \u001b[0;34m=\u001b[0m \u001b[0mdict_factory\u001b[0m\u001b[0;34m\u001b[0m\u001b[0;34m\u001b[0m\u001b[0m\n\u001b[0m\u001b[1;32m      8\u001b[0m \u001b[0;34m\u001b[0m\u001b[0m\n\u001b[1;32m      9\u001b[0m \u001b[0;31m# def query(sql):\u001b[0m\u001b[0;34m\u001b[0m\u001b[0;34m\u001b[0m\u001b[0;34m\u001b[0m\u001b[0m\n",
            "\u001b[0;31mNameError\u001b[0m: name 'conn' is not defined"
          ]
        }
      ]
    },
    {
      "cell_type": "code",
      "source": [
        "#function to flatten the json object in the google analytics sample data\n",
        "def load_df(path, nrows=None):\n",
        "    JSON_COLUMNS = ['device', 'geoNetwork', 'totals', 'trafficSource']\n",
        "    \n",
        "    df = pd.read_csv(path, \n",
        "                     converters={column: json.loads for column in JSON_COLUMNS}, \n",
        "                     dtype={'fullVisitorId': 'str'})\n",
        "    \n",
        "    for column in JSON_COLUMNS:\n",
        "        column_as_df = pd.json_normalize(df[column])\n",
        "        column_as_df.columns = [f\"{column}.{subcolumn}\" for subcolumn in column_as_df.columns]\n",
        "        df = df.drop(column, axis=1).merge(column_as_df, right_index=True, left_index=True)\n",
        "    #print(f\"Loaded {os.path.basename(path)}. Shape: {df.shape}\")\n",
        "    return df"
      ],
      "metadata": {
        "id": "qVFfm8nD7-oV"
      },
      "execution_count": null,
      "outputs": []
    }
  ]
}